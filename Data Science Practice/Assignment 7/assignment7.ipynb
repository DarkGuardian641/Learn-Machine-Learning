{
 "cells": [
  {
   "cell_type": "markdown",
   "id": "3ae6ae14-7b1d-4165-a132-888ce8eea37f",
   "metadata": {},
   "source": [
    "## Text analysis: \n",
    "### 1. Extract Sample document and apply following document preprocessing methods: Tokenization, POS Tagging, stop words removal, Stemming and Lemmatization.\n",
    "### 2. Create representation of document by calculating Term Frequency and Inverse Document Frequency"
   ]
  },
  {
   "cell_type": "code",
   "execution_count": 1,
   "id": "a4f3eb97-bcad-4c84-aa42-8fe90b72d1dd",
   "metadata": {},
   "outputs": [],
   "source": [
    "sample_sentence = \"Wow, it is such a beautiful day!\""
   ]
  },
  {
   "cell_type": "markdown",
   "id": "05a27a69-1158-4642-8460-99cc041b661e",
   "metadata": {},
   "source": [
    "### TOKENISATION"
   ]
  },
  {
   "cell_type": "code",
   "execution_count": 2,
   "id": "8879c471-f2db-456d-9f8b-b1daa2673a4f",
   "metadata": {},
   "outputs": [
    {
     "name": "stderr",
     "output_type": "stream",
     "text": [
      "[nltk_data] Downloading package averaged_perceptron_tagger_eng to\n",
      "[nltk_data]     C:\\Users\\athar\\AppData\\Roaming\\nltk_data...\n",
      "[nltk_data]   Package averaged_perceptron_tagger_eng is already up-to-\n",
      "[nltk_data]       date!\n",
      "[nltk_data] Downloading package punkt_tab to\n",
      "[nltk_data]     C:\\Users\\athar\\AppData\\Roaming\\nltk_data...\n",
      "[nltk_data]   Package punkt_tab is already up-to-date!\n"
     ]
    }
   ],
   "source": [
    "import nltk\n",
    "nltk.download(\"averaged_perceptron_tagger_eng\")\n",
    "nltk.download('punkt_tab')\n",
    "from nltk import word_tokenize, sent_tokenize"
   ]
  },
  {
   "cell_type": "code",
   "execution_count": 3,
   "id": "a8a776e6-d381-465d-b43d-a7a30b6a49d3",
   "metadata": {},
   "outputs": [
    {
     "name": "stdout",
     "output_type": "stream",
     "text": [
      "sentence words:  ['Wow, it is such a beautiful day!']\n",
      "tokenized words:  [['Wow', ',', 'it', 'is', 'such', 'a', 'beautiful', 'day', '!']]\n"
     ]
    }
   ],
   "source": [
    "sentences= sent_tokenize(sample_sentence)\n",
    "tokenized_words = [word_tokenize(sentence) for sentence in sentences]\n",
    "print('sentence words: ', sentences)\n",
    "print('tokenized words: ', tokenized_words)"
   ]
  },
  {
   "cell_type": "markdown",
   "id": "e605be70-2d52-45c5-87dd-fd0dc9dfc81a",
   "metadata": {},
   "source": [
    "### STOPWORDS REMOVAL"
   ]
  },
  {
   "cell_type": "code",
   "execution_count": 4,
   "id": "d7a27350",
   "metadata": {},
   "outputs": [],
   "source": [
    "from nltk.corpus import stopwords\n",
    "import nltk"
   ]
  },
  {
   "cell_type": "code",
   "execution_count": 5,
   "id": "b513e18a-14b4-4ae6-afe4-a4b7bab4a674",
   "metadata": {},
   "outputs": [
    {
     "name": "stderr",
     "output_type": "stream",
     "text": [
      "[nltk_data] Downloading package stopwords to\n",
      "[nltk_data]     C:\\Users\\athar\\AppData\\Roaming\\nltk_data...\n",
      "[nltk_data]   Package stopwords is already up-to-date!\n"
     ]
    },
    {
     "data": {
      "text/plain": [
       "True"
      ]
     },
     "execution_count": 5,
     "metadata": {},
     "output_type": "execute_result"
    }
   ],
   "source": [
    "# Download the stopwords dataset if not already downloaded\n",
    "nltk.download('stopwords')"
   ]
  },
  {
   "cell_type": "code",
   "execution_count": 6,
   "id": "6146a26b",
   "metadata": {},
   "outputs": [
    {
     "name": "stdout",
     "output_type": "stream",
     "text": [
      "Filtered tokens: ['Wow', ',', 'beautiful', 'day', '!']\n"
     ]
    }
   ],
   "source": [
    "stop_words = set(stopwords.words('english'))\n",
    "\n",
    "# Flatten the list (handles both flat and nested cases)\n",
    "flat_tokens = []\n",
    "for word in tokenized_words:\n",
    "    if isinstance(word, list):  # Handle nested lists\n",
    "        flat_tokens.extend(word)\n",
    "    else:  # Handle flat lists\n",
    "        flat_tokens.append(word)\n",
    "\n",
    "# Remove stopwords (case-insensitive)\n",
    "filtered_tokens = [word for word in flat_tokens if word.lower() not in stop_words]\n",
    "print(\"Filtered tokens:\", filtered_tokens)"
   ]
  },
  {
   "cell_type": "markdown",
   "id": "ae10f1ca-5161-473c-b8f1-3b0541f3a584",
   "metadata": {},
   "source": [
    "### POS tagging"
   ]
  },
  {
   "cell_type": "code",
   "execution_count": 7,
   "id": "d99b1e4e-9ab2-43ce-b67f-a55076fc2dff",
   "metadata": {},
   "outputs": [
    {
     "data": {
      "text/plain": [
       "['Wow', ',', 'it', 'is', 'such', 'a', 'beautiful', 'day', '!']"
      ]
     },
     "execution_count": 7,
     "metadata": {},
     "output_type": "execute_result"
    }
   ],
   "source": [
    "from nltk import pos_tag\n",
    "token_words = word_tokenize(sample_sentence)\n",
    "token_words"
   ]
  },
  {
   "cell_type": "code",
   "execution_count": 8,
   "id": "1c37f40c-907c-4979-964a-e6e3f3998198",
   "metadata": {},
   "outputs": [
    {
     "name": "stdout",
     "output_type": "stream",
     "text": [
      "tagging parts of speech:  [('Wow', 'NNP'), (',', ','), ('it', 'PRP'), ('is', 'VBZ'), ('such', 'JJ'), ('a', 'DT'), ('beautiful', 'JJ'), ('day', 'NN'), ('!', '.')]\n"
     ]
    }
   ],
   "source": [
    "pos_tags = pos_tag(token_words)\n",
    "print(\"tagging parts of speech: \", pos_tags)"
   ]
  },
  {
   "cell_type": "markdown",
   "id": "861b7029-652d-41c4-93da-b250b55b6012",
   "metadata": {},
   "source": [
    "### Stemming"
   ]
  },
  {
   "cell_type": "code",
   "execution_count": 9,
   "id": "b9b96369-28bc-4fc2-b180-b1b4e25a46ad",
   "metadata": {},
   "outputs": [
    {
     "name": "stdout",
     "output_type": "stream",
     "text": [
      "Stemmed tokens:  ['wow', ',', 'beauti', 'day', '!']\n"
     ]
    }
   ],
   "source": [
    "from nltk.stem import PorterStemmer\n",
    "stemmer = PorterStemmer()\n",
    "stemmed_tokens = [stemmer.stem(word) for word in filtered_tokens]\n",
    "print(\"Stemmed tokens: \", stemmed_tokens)"
   ]
  },
  {
   "cell_type": "markdown",
   "id": "dc5d81e9-eca1-4c41-807b-16f70bc0fa3b",
   "metadata": {},
   "source": [
    "### Lemmatization"
   ]
  },
  {
   "cell_type": "code",
   "execution_count": 10,
   "id": "2dd7f55f-43fe-491e-8be0-43896bdde083",
   "metadata": {},
   "outputs": [
    {
     "name": "stderr",
     "output_type": "stream",
     "text": [
      "[nltk_data] Downloading package wordnet to\n",
      "[nltk_data]     C:\\Users\\athar\\AppData\\Roaming\\nltk_data...\n",
      "[nltk_data]   Package wordnet is already up-to-date!\n",
      "[nltk_data] Downloading package omw-1.4 to\n",
      "[nltk_data]     C:\\Users\\athar\\AppData\\Roaming\\nltk_data...\n",
      "[nltk_data]   Package omw-1.4 is already up-to-date!\n"
     ]
    },
    {
     "data": {
      "text/plain": [
       "True"
      ]
     },
     "execution_count": 10,
     "metadata": {},
     "output_type": "execute_result"
    }
   ],
   "source": [
    "from nltk.stem import WordNetLemmatizer\n",
    "\n",
    "# Download required NLTK data (only needed once)\n",
    "nltk.download('wordnet')\n",
    "nltk.download('omw-1.4')  # Required for some languages"
   ]
  },
  {
   "cell_type": "code",
   "execution_count": 11,
   "id": "803c2218",
   "metadata": {},
   "outputs": [
    {
     "name": "stdout",
     "output_type": "stream",
     "text": [
      "Lemmatized tokens: ['Wow', ',', 'beautiful', 'day', '!']\n"
     ]
    }
   ],
   "source": [
    "# Initialize the lemmatizer\n",
    "lemmatizer = WordNetLemmatizer()\n",
    "\n",
    "# Lemmatize each token in filtered_tokens\n",
    "lemmatized_tokens = [lemmatizer.lemmatize(word) for word in filtered_tokens]\n",
    "print(\"Lemmatized tokens:\", lemmatized_tokens)"
   ]
  },
  {
   "cell_type": "markdown",
   "id": "6047c7a0-72f7-4bb8-a060-ac36e4dcd9a5",
   "metadata": {},
   "source": [
    "### calculating Term Frequency and Inverse Document Frequency."
   ]
  },
  {
   "cell_type": "code",
   "execution_count": 12,
   "id": "2ef2704f-d3eb-4bf0-9f75-309fa349e562",
   "metadata": {},
   "outputs": [],
   "source": [
    "preprocessed_text = ' '.join(lemmatized_tokens)\n",
    "from sklearn.feature_extraction.text import TfidfVectorizer"
   ]
  },
  {
   "cell_type": "code",
   "execution_count": 13,
   "id": "1f6ae7f9-5601-407d-a94d-be9ea003029f",
   "metadata": {},
   "outputs": [
    {
     "name": "stdout",
     "output_type": "stream",
     "text": [
      "preprocessed text:  Wow , beautiful day !\n",
      "\n",
      " TFIDF representation: \n",
      " [[0.57735027 0.57735027 0.57735027]]\n"
     ]
    }
   ],
   "source": [
    "tfidf_vectorizer = TfidfVectorizer()\n",
    "tfidf_representation = tfidf_vectorizer.fit_transform([preprocessed_text])\n",
    "print(\"preprocessed text: \", preprocessed_text)\n",
    "print(\"\\n TFIDF representation: \\n\", tfidf_representation.toarray())"
   ]
  }
 ],
 "metadata": {
  "kernelspec": {
   "display_name": "Python [conda env:base] *",
   "language": "python",
   "name": "conda-base-py"
  },
  "language_info": {
   "codemirror_mode": {
    "name": "ipython",
    "version": 3
   },
   "file_extension": ".py",
   "mimetype": "text/x-python",
   "name": "python",
   "nbconvert_exporter": "python",
   "pygments_lexer": "ipython3",
   "version": "3.12.7"
  }
 },
 "nbformat": 4,
 "nbformat_minor": 5
}
