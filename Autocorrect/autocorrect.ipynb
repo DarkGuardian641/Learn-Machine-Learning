{
 "cells": [
  {
   "cell_type": "markdown",
   "metadata": {},
   "source": [
    "### Import Required Libraries"
   ]
  },
  {
   "cell_type": "code",
   "execution_count": 1,
   "metadata": {},
   "outputs": [
    {
     "name": "stderr",
     "output_type": "stream",
     "text": [
      "[nltk_data] Downloading package wordnet to\n",
      "[nltk_data]     C:\\Users\\athar\\AppData\\Roaming\\nltk_data...\n",
      "[nltk_data]   Package wordnet is already up-to-date!\n",
      "[nltk_data] Downloading package omw-1.4 to\n",
      "[nltk_data]     C:\\Users\\athar\\AppData\\Roaming\\nltk_data...\n",
      "[nltk_data]   Package omw-1.4 is already up-to-date!\n"
     ]
    },
    {
     "data": {
      "text/plain": [
       "True"
      ]
     },
     "execution_count": 1,
     "metadata": {},
     "output_type": "execute_result"
    }
   ],
   "source": [
    "import pandas as pd\n",
    "import nltk\n",
    "import re\n",
    "import string\n",
    "from nltk.stem import WordNetLemmatizer\n",
    "\n",
    "# Download required NLTK data\n",
    "nltk.download('wordnet')\n",
    "nltk.download('omw-1.4')"
   ]
  },
  {
   "cell_type": "markdown",
   "metadata": {},
   "source": [
    "### Load and Process the Text Dataset"
   ]
  },
  {
   "cell_type": "code",
   "execution_count": 2,
   "metadata": {},
   "outputs": [],
   "source": [
    "# Read the CSV file\n",
    "df = pd.read_csv(\"dict.csv\")"
   ]
  },
  {
   "cell_type": "code",
   "execution_count": 3,
   "metadata": {},
   "outputs": [
    {
     "data": {
      "text/html": [
       "<div>\n",
       "<style scoped>\n",
       "    .dataframe tbody tr th:only-of-type {\n",
       "        vertical-align: middle;\n",
       "    }\n",
       "\n",
       "    .dataframe tbody tr th {\n",
       "        vertical-align: top;\n",
       "    }\n",
       "\n",
       "    .dataframe thead th {\n",
       "        text-align: right;\n",
       "    }\n",
       "</style>\n",
       "<table border=\"1\" class=\"dataframe\">\n",
       "  <thead>\n",
       "    <tr style=\"text-align: right;\">\n",
       "      <th></th>\n",
       "      <th>word</th>\n",
       "      <th>definition</th>\n",
       "    </tr>\n",
       "  </thead>\n",
       "  <tbody>\n",
       "    <tr>\n",
       "      <th>0</th>\n",
       "      <td>abbacy</td>\n",
       "      <td>The word \"abbacy\" refers to the office or juri...</td>\n",
       "    </tr>\n",
       "    <tr>\n",
       "      <th>1</th>\n",
       "      <td>abductor</td>\n",
       "      <td>The word \"abductor\" refers to a person or thin...</td>\n",
       "    </tr>\n",
       "    <tr>\n",
       "      <th>2</th>\n",
       "      <td>abas</td>\n",
       "      <td>The word \"abas\" does not have a widely recogni...</td>\n",
       "    </tr>\n",
       "    <tr>\n",
       "      <th>3</th>\n",
       "      <td>abasement</td>\n",
       "      <td>The word \"abasement\" refers to the action or e...</td>\n",
       "    </tr>\n",
       "    <tr>\n",
       "      <th>4</th>\n",
       "      <td>abampere</td>\n",
       "      <td>The term \"abampere\" is a unit of electric curr...</td>\n",
       "    </tr>\n",
       "  </tbody>\n",
       "</table>\n",
       "</div>"
      ],
      "text/plain": [
       "        word                                         definition\n",
       "0     abbacy  The word \"abbacy\" refers to the office or juri...\n",
       "1   abductor  The word \"abductor\" refers to a person or thin...\n",
       "2       abas  The word \"abas\" does not have a widely recogni...\n",
       "3  abasement  The word \"abasement\" refers to the action or e...\n",
       "4   abampere  The term \"abampere\" is a unit of electric curr..."
      ]
     },
     "execution_count": 3,
     "metadata": {},
     "output_type": "execute_result"
    }
   ],
   "source": [
    "# Print first 5 rows\n",
    "df.head()"
   ]
  },
  {
   "cell_type": "code",
   "execution_count": 4,
   "metadata": {},
   "outputs": [],
   "source": [
    "# Combine all words into a single string and convert to lowercase\n",
    "text_data = df['word'].str.cat(sep=' ').lower()"
   ]
  },
  {
   "cell_type": "code",
   "execution_count": 5,
   "metadata": {},
   "outputs": [],
   "source": [
    "# Extract all words using a regular expression\n",
    "words = re.findall(r'\\w+', text_data)"
   ]
  },
  {
   "cell_type": "code",
   "execution_count": 6,
   "metadata": {},
   "outputs": [],
   "source": [
    "# Create a set of unique words (vocabulary)\n",
    "vocab = set(words)"
   ]
  },
  {
   "cell_type": "markdown",
   "metadata": {},
   "source": [
    "### Count Word Frequency"
   ]
  },
  {
   "cell_type": "code",
   "execution_count": 7,
   "metadata": {},
   "outputs": [],
   "source": [
    "# Word Frequency\n",
    "def count_word_frequency(words):\n",
    "    word_count = {}\n",
    "    for word in words:\n",
    "        word_count[word] = word_count.get(word, 0) + 1\n",
    "    return word_count\n",
    "\n",
    "word_count = count_word_frequency(words)"
   ]
  },
  {
   "cell_type": "markdown",
   "metadata": {},
   "source": [
    "### Calculate Word Probability"
   ]
  },
  {
   "cell_type": "code",
   "execution_count": 8,
   "metadata": {},
   "outputs": [],
   "source": [
    "# Word Probability\n",
    "def calculate_probability(word_count):\n",
    "    total_words = sum(word_count.values())\n",
    "    return {word: count / total_words for word, count in word_count.items()}\n",
    "\n",
    "probabilities = calculate_probability(word_count)"
   ]
  },
  {
   "cell_type": "markdown",
   "metadata": {},
   "source": [
    "### Define NLP-Based Functions\n",
    "\n",
    "Here, we define a few helper functions that will generate possible corrections for misspelled words. These functions apply common spelling correction strategies such as:\n",
    "\n",
    "1. Deleting a letter: removes a letter from the word.\n",
    "2. Swapping adjacent letters: swaps adjacent letters in the word\n",
    "3. Replacing a letter: replaces each letter with every other letter of the alphabet\n",
    "4. Inserting a new letter: inserts a new letter at every position in the word"
   ]
  },
  {
   "cell_type": "code",
   "execution_count": 9,
   "metadata": {},
   "outputs": [],
   "source": [
    "# Lemmatization\n",
    "lemmatizer = WordNetLemmatizer()\n",
    "\n",
    "def lemmatize_word(word):\n",
    "    \"\"\"Lemmatize a given word using NLTK WordNet Lemmatizer.\"\"\"\n",
    "    return lemmatizer.lemmatize(word)\n",
    "\n",
    "def delete_letter(word):\n",
    "    return [word[:i] + word[i+1:] for i in range(len(word))]\n",
    "\n",
    "def swap_letters(word):\n",
    "    return [word[:i] + word[i+1] + word[i] + word[i+2:] for i in range(len(word)-1)]\n",
    "\n",
    "def replace_letter(word):\n",
    "    letters = string.ascii_lowercase\n",
    "    return [word[:i] + l + word[i+1:] for i in range(len(word)) for l in letters]\n",
    "\n",
    "def insert_letter(word):\n",
    "    letters = string.ascii_lowercase\n",
    "    return [word[:i] + l + word[i:] for i in range(len(word)+1) for l in letters]"
   ]
  },
  {
   "cell_type": "markdown",
   "metadata": {},
   "source": [
    "### Generate Candidate Corrections"
   ]
  },
  {
   "cell_type": "code",
   "execution_count": 10,
   "metadata": {},
   "outputs": [],
   "source": [
    "# Candidate Correction\n",
    "def generate_candidates(word):\n",
    "    candidates = set()\n",
    "    candidates.update(delete_letter(word))\n",
    "    candidates.update(swap_letters(word))\n",
    "    candidates.update(replace_letter(word))\n",
    "    candidates.update(insert_letter(word))\n",
    "    return candidates\n",
    "\n",
    "def generate_candidates_level2(word):\n",
    "    level1 = generate_candidates(word)\n",
    "    level2 = set()\n",
    "    for w in level1:\n",
    "        level2.update(generate_candidates(w))\n",
    "    return level2"
   ]
  },
  {
   "cell_type": "markdown",
   "metadata": {},
   "source": [
    "### Get the Best Corrections"
   ]
  },
  {
   "cell_type": "code",
   "execution_count": 11,
   "metadata": {},
   "outputs": [],
   "source": [
    "def get_best_correction(word, probs, vocab, max_suggestions=3):\n",
    "    candidates = (\n",
    "        [word] if word in vocab else list(generate_candidates(word).intersection(vocab)) or \n",
    "        list(generate_candidates_level2(word).intersection(vocab))\n",
    "    )\n",
    "    return sorted([(w, probs.get(w, 0)) for w in candidates], key=lambda x: x[1], reverse=True)[:max_suggestions]"
   ]
  },
  {
   "cell_type": "markdown",
   "metadata": {},
   "source": [
    "### User Input & Output Suggestions"
   ]
  },
  {
   "cell_type": "code",
   "execution_count": 12,
   "metadata": {},
   "outputs": [],
   "source": [
    "# Take user input\n",
    "user_input = input(\"\\n Enter a word for autocorrection: \")"
   ]
  },
  {
   "cell_type": "code",
   "execution_count": 13,
   "metadata": {},
   "outputs": [
    {
     "name": "stdout",
     "output_type": "stream",
     "text": [
      "\n",
      " You entered: Prwdiction\n"
     ]
    }
   ],
   "source": [
    "# Display the user-entered word\n",
    "print(f\"\\n You entered: {user_input}\")"
   ]
  },
  {
   "cell_type": "code",
   "execution_count": 14,
   "metadata": {},
   "outputs": [],
   "source": [
    "# Get the best corrections\n",
    "suggestions = get_best_correction(user_input, probabilities, vocab, max_suggestions=3)"
   ]
  },
  {
   "cell_type": "code",
   "execution_count": 15,
   "metadata": {},
   "outputs": [
    {
     "name": "stdout",
     "output_type": "stream",
     "text": [
      "\n",
      " Top suggestions:\n",
      "1. prediction\n"
     ]
    }
   ],
   "source": [
    "# Print the top suggestions\n",
    "print(\"\\n Top suggestions:\")\n",
    "for i, suggestion in enumerate(suggestions, start=1):\n",
    "    print(f\"{i}. {suggestion[0]}\")"
   ]
  }
 ],
 "metadata": {
  "kernelspec": {
   "display_name": "base",
   "language": "python",
   "name": "python3"
  },
  "language_info": {
   "codemirror_mode": {
    "name": "ipython",
    "version": 3
   },
   "file_extension": ".py",
   "mimetype": "text/x-python",
   "name": "python",
   "nbconvert_exporter": "python",
   "pygments_lexer": "ipython3",
   "version": "3.12.3"
  }
 },
 "nbformat": 4,
 "nbformat_minor": 2
}
